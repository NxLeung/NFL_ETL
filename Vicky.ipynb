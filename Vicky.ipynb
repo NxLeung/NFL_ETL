{
 "cells": [
  {
   "cell_type": "code",
   "execution_count": 1,
   "metadata": {},
   "outputs": [],
   "source": [
    "#imports\n",
    "import pandas as pd\n",
    "# SQL Alchemy\n",
    "from sqlalchemy import create_engine\n",
    "# Import and establish Base for which classes will be constructed \n",
    "from sqlalchemy.ext.declarative import declarative_base\n",
    "Base = declarative_base()\n",
    "# Import modules to declare columns and column data types\n",
    "from sqlalchemy import Column, Integer, String, Float"
   ]
  },
  {
   "cell_type": "code",
   "execution_count": 2,
   "metadata": {},
   "outputs": [],
   "source": [
    "# Create Database Connection\n",
    "# ----------------------------------\n",
    "connection_string = \"postgres:postgres@localhost:5432/NFL\"\n",
    "engine = create_engine(f'postgresql://{connection_string}')\n"
   ]
  },
  {
   "cell_type": "code",
   "execution_count": 3,
   "metadata": {},
   "outputs": [
    {
     "data": {
      "text/plain": [
       "['city_attributes', 'temperature', 'weather_conditions']"
      ]
     },
     "execution_count": 3,
     "metadata": {},
     "output_type": "execute_result"
    }
   ],
   "source": [
    "# Confirm tables\n",
    "engine.table_names()"
   ]
  },
  {
   "cell_type": "code",
   "execution_count": 4,
   "metadata": {},
   "outputs": [],
   "source": [
    "# To push the objects made and query the server we use a Session object\n",
    "from sqlalchemy.orm import Session\n",
    "session = Session(bind=engine)"
   ]
  },
  {
   "cell_type": "code",
   "execution_count": null,
   "metadata": {},
   "outputs": [],
   "source": []
  },
  {
   "cell_type": "code",
   "execution_count": 5,
   "metadata": {},
   "outputs": [],
   "source": [
    "#import csv\n",
    "file_1 = \"RESRCES/city_attributes.csv\"\n",
    "file_2 = \"RESRCES/temperature.csv\"\n",
    "file_3 = \"RESRCES/weather_description.csv\""
   ]
  },
  {
   "cell_type": "code",
   "execution_count": 6,
   "metadata": {},
   "outputs": [],
   "source": [
    "#read citi attr\n",
    "df_city_attr = pd.read_csv(file_1)\n",
    "#df_original1.head()"
   ]
  },
  {
   "cell_type": "code",
   "execution_count": 7,
   "metadata": {},
   "outputs": [],
   "source": [
    "#read temp\n",
    "df_temp = pd.read_csv(file_2)\n",
    "#df_original2.head()"
   ]
  },
  {
   "cell_type": "code",
   "execution_count": 8,
   "metadata": {},
   "outputs": [],
   "source": [
    "#read temp\n",
    "df_weather_descr = pd.read_csv(file_3)\n",
    "#df_original3.head()"
   ]
  },
  {
   "cell_type": "code",
   "execution_count": 9,
   "metadata": {},
   "outputs": [
    {
     "data": {
      "text/html": [
       "<div>\n",
       "<style scoped>\n",
       "    .dataframe tbody tr th:only-of-type {\n",
       "        vertical-align: middle;\n",
       "    }\n",
       "\n",
       "    .dataframe tbody tr th {\n",
       "        vertical-align: top;\n",
       "    }\n",
       "\n",
       "    .dataframe thead th {\n",
       "        text-align: right;\n",
       "    }\n",
       "</style>\n",
       "<table border=\"1\" class=\"dataframe\">\n",
       "  <thead>\n",
       "    <tr style=\"text-align: right;\">\n",
       "      <th></th>\n",
       "      <th>city</th>\n",
       "      <th>country</th>\n",
       "      <th>latitude</th>\n",
       "      <th>longitude</th>\n",
       "    </tr>\n",
       "  </thead>\n",
       "  <tbody>\n",
       "    <tr>\n",
       "      <th>8</th>\n",
       "      <td>Albuquerque</td>\n",
       "      <td>United States</td>\n",
       "      <td>35.084492</td>\n",
       "      <td>-106.651138</td>\n",
       "    </tr>\n",
       "    <tr>\n",
       "      <th>19</th>\n",
       "      <td>Atlanta</td>\n",
       "      <td>United States</td>\n",
       "      <td>33.749001</td>\n",
       "      <td>-84.387978</td>\n",
       "    </tr>\n",
       "    <tr>\n",
       "      <th>30</th>\n",
       "      <td>Beersheba</td>\n",
       "      <td>Israel</td>\n",
       "      <td>31.251810</td>\n",
       "      <td>34.791302</td>\n",
       "    </tr>\n",
       "    <tr>\n",
       "      <th>29</th>\n",
       "      <td>Boston</td>\n",
       "      <td>United States</td>\n",
       "      <td>42.358429</td>\n",
       "      <td>-71.059769</td>\n",
       "    </tr>\n",
       "    <tr>\n",
       "      <th>22</th>\n",
       "      <td>Charlotte</td>\n",
       "      <td>United States</td>\n",
       "      <td>35.227089</td>\n",
       "      <td>-80.843132</td>\n",
       "    </tr>\n",
       "  </tbody>\n",
       "</table>\n",
       "</div>"
      ],
      "text/plain": [
       "           city        country   latitude   longitude\n",
       "8   Albuquerque  United States  35.084492 -106.651138\n",
       "19      Atlanta  United States  33.749001  -84.387978\n",
       "30    Beersheba         Israel  31.251810   34.791302\n",
       "29       Boston  United States  42.358429  -71.059769\n",
       "22    Charlotte  United States  35.227089  -80.843132"
      ]
     },
     "execution_count": 9,
     "metadata": {},
     "output_type": "execute_result"
    }
   ],
   "source": [
    "#create dataframe on citty attriibutes csv file\n",
    "#sort it by city\n",
    "df_city_attr = pd.DataFrame(df_city_attr)\n",
    "result = df_city_attr.sort_values('City')\n",
    "#rename columns\n",
    "result.rename(columns={'City': 'city', 'Country': 'country','Latitude': 'latitude','Longitude': 'longitude'}, inplace=True)\n",
    "result.head()"
   ]
  },
  {
   "cell_type": "code",
   "execution_count": 10,
   "metadata": {},
   "outputs": [
    {
     "data": {
      "text/html": [
       "<div>\n",
       "<style scoped>\n",
       "    .dataframe tbody tr th:only-of-type {\n",
       "        vertical-align: middle;\n",
       "    }\n",
       "\n",
       "    .dataframe tbody tr th {\n",
       "        vertical-align: top;\n",
       "    }\n",
       "\n",
       "    .dataframe thead th {\n",
       "        text-align: right;\n",
       "    }\n",
       "</style>\n",
       "<table border=\"1\" class=\"dataframe\">\n",
       "  <thead>\n",
       "    <tr style=\"text-align: right;\">\n",
       "      <th></th>\n",
       "      <th>datetime</th>\n",
       "      <th>city</th>\n",
       "      <th>temperature</th>\n",
       "    </tr>\n",
       "  </thead>\n",
       "  <tbody>\n",
       "    <tr>\n",
       "      <th>0</th>\n",
       "      <td>2012-10-01 12:00:00</td>\n",
       "      <td>Seattle</td>\n",
       "      <td>NaN</td>\n",
       "    </tr>\n",
       "    <tr>\n",
       "      <th>1</th>\n",
       "      <td>2012-10-01 13:00:00</td>\n",
       "      <td>Seattle</td>\n",
       "      <td>281.800000</td>\n",
       "    </tr>\n",
       "    <tr>\n",
       "      <th>2</th>\n",
       "      <td>2012-10-01 14:00:00</td>\n",
       "      <td>Seattle</td>\n",
       "      <td>281.797217</td>\n",
       "    </tr>\n",
       "    <tr>\n",
       "      <th>3</th>\n",
       "      <td>2012-10-01 15:00:00</td>\n",
       "      <td>Seattle</td>\n",
       "      <td>281.789833</td>\n",
       "    </tr>\n",
       "    <tr>\n",
       "      <th>4</th>\n",
       "      <td>2012-10-01 16:00:00</td>\n",
       "      <td>Seattle</td>\n",
       "      <td>281.782449</td>\n",
       "    </tr>\n",
       "  </tbody>\n",
       "</table>\n",
       "</div>"
      ],
      "text/plain": [
       "              datetime     city  temperature\n",
       "0  2012-10-01 12:00:00  Seattle          NaN\n",
       "1  2012-10-01 13:00:00  Seattle   281.800000\n",
       "2  2012-10-01 14:00:00  Seattle   281.797217\n",
       "3  2012-10-01 15:00:00  Seattle   281.789833\n",
       "4  2012-10-01 16:00:00  Seattle   281.782449"
      ]
     },
     "execution_count": 10,
     "metadata": {},
     "output_type": "execute_result"
    }
   ],
   "source": [
    "##create dataframe on temperature csv file\n",
    "#Filter certain columns only\n",
    "#convert columns into rows using melt function\n",
    "df_temperature=pd.DataFrame(df_temp[[\"datetime\",\"Seattle\",\"Detroit\",\"Los Angeles\",\"Atlanta\",\"Charlotte\",\"Pittsburgh\",\"Houston\",\"Philadelphia\",\"Kansas City\"]])\n",
    "df_temperature_melt=pd.melt(df_temperature, id_vars=['datetime'], value_vars=[\"Seattle\",\"Detroit\",\"Los Angeles\",\"Atlanta\",\"Charlotte\",\"Pittsburgh\",\"Houston\",\"Philadelphia\",\"Kansas City\"])\n",
    "#rename columns\n",
    "df_temperature_melt.rename(columns={'variable': 'city', 'value': 'temperature'}, inplace=True)\n",
    "df_temperature_melt.head()"
   ]
  },
  {
   "cell_type": "code",
   "execution_count": 11,
   "metadata": {},
   "outputs": [
    {
     "data": {
      "text/html": [
       "<div>\n",
       "<style scoped>\n",
       "    .dataframe tbody tr th:only-of-type {\n",
       "        vertical-align: middle;\n",
       "    }\n",
       "\n",
       "    .dataframe tbody tr th {\n",
       "        vertical-align: top;\n",
       "    }\n",
       "\n",
       "    .dataframe thead th {\n",
       "        text-align: right;\n",
       "    }\n",
       "</style>\n",
       "<table border=\"1\" class=\"dataframe\">\n",
       "  <thead>\n",
       "    <tr style=\"text-align: right;\">\n",
       "      <th></th>\n",
       "      <th>datetime</th>\n",
       "      <th>city</th>\n",
       "      <th>weather</th>\n",
       "    </tr>\n",
       "  </thead>\n",
       "  <tbody>\n",
       "    <tr>\n",
       "      <th>0</th>\n",
       "      <td>2012-10-01 12:00:00</td>\n",
       "      <td>Seattle</td>\n",
       "      <td>NaN</td>\n",
       "    </tr>\n",
       "    <tr>\n",
       "      <th>1</th>\n",
       "      <td>2012-10-01 13:00:00</td>\n",
       "      <td>Seattle</td>\n",
       "      <td>sky is clear</td>\n",
       "    </tr>\n",
       "    <tr>\n",
       "      <th>2</th>\n",
       "      <td>2012-10-01 14:00:00</td>\n",
       "      <td>Seattle</td>\n",
       "      <td>sky is clear</td>\n",
       "    </tr>\n",
       "    <tr>\n",
       "      <th>3</th>\n",
       "      <td>2012-10-01 15:00:00</td>\n",
       "      <td>Seattle</td>\n",
       "      <td>sky is clear</td>\n",
       "    </tr>\n",
       "    <tr>\n",
       "      <th>4</th>\n",
       "      <td>2012-10-01 16:00:00</td>\n",
       "      <td>Seattle</td>\n",
       "      <td>sky is clear</td>\n",
       "    </tr>\n",
       "  </tbody>\n",
       "</table>\n",
       "</div>"
      ],
      "text/plain": [
       "              datetime     city       weather\n",
       "0  2012-10-01 12:00:00  Seattle           NaN\n",
       "1  2012-10-01 13:00:00  Seattle  sky is clear\n",
       "2  2012-10-01 14:00:00  Seattle  sky is clear\n",
       "3  2012-10-01 15:00:00  Seattle  sky is clear\n",
       "4  2012-10-01 16:00:00  Seattle  sky is clear"
      ]
     },
     "execution_count": 11,
     "metadata": {},
     "output_type": "execute_result"
    }
   ],
   "source": [
    "#create data frame on weather cond  and select the columns from it\n",
    "#Filter certain columns only\n",
    "#convert columns into rows using melt function\n",
    "df_weather_cond=pd.DataFrame(df_weather_descr[[\"datetime\",\"Seattle\",\"Detroit\",\"Los Angeles\",\"Atlanta\",\"Charlotte\",\"Pittsburgh\",\"Houston\",\"Philadelphia\",\"Kansas City\"]])\n",
    "df_weather_cond_melt=pd.melt(df_weather_cond, id_vars=['datetime'], value_vars=[\"Seattle\",\"Detroit\",\"Los Angeles\",\"Atlanta\",\"Charlotte\",\"Pittsburgh\",\"Houston\",\"Philadelphia\",\"Kansas City\"])\n",
    "#rename columns\n",
    "df_weather_cond_melt.rename(columns={'variable': 'city', 'value': 'weather'}, inplace=True)\n",
    "df_weather_cond_melt.head()"
   ]
  },
  {
   "cell_type": "code",
   "execution_count": null,
   "metadata": {},
   "outputs": [],
   "source": []
  },
  {
   "cell_type": "code",
   "execution_count": null,
   "metadata": {},
   "outputs": [],
   "source": []
  },
  {
   "cell_type": "code",
   "execution_count": null,
   "metadata": {},
   "outputs": [],
   "source": []
  },
  {
   "cell_type": "code",
   "execution_count": 12,
   "metadata": {},
   "outputs": [],
   "source": [
    "#insert city attributes into DB\n",
    "result.to_sql(name='city_attributes', con=engine, if_exists='append', index=True)"
   ]
  },
  {
   "cell_type": "code",
   "execution_count": 13,
   "metadata": {},
   "outputs": [],
   "source": [
    "#insert temperature into DB\n",
    "df_temperature_melt.to_sql(name='temperature', con=engine, if_exists='append', index=True)"
   ]
  },
  {
   "cell_type": "code",
   "execution_count": 14,
   "metadata": {},
   "outputs": [],
   "source": [
    "#insert weather conditions into DB\n",
    "df_weather_cond_melt.to_sql(name='weather_conditions', con=engine, if_exists='append', index=True)"
   ]
  },
  {
   "cell_type": "code",
   "execution_count": null,
   "metadata": {},
   "outputs": [],
   "source": []
  },
  {
   "cell_type": "code",
   "execution_count": null,
   "metadata": {},
   "outputs": [],
   "source": []
  },
  {
   "cell_type": "code",
   "execution_count": null,
   "metadata": {},
   "outputs": [],
   "source": []
  },
  {
   "cell_type": "code",
   "execution_count": null,
   "metadata": {},
   "outputs": [],
   "source": []
  },
  {
   "cell_type": "code",
   "execution_count": null,
   "metadata": {},
   "outputs": [],
   "source": []
  }
 ],
 "metadata": {
  "kernelspec": {
   "display_name": "Python 3",
   "language": "python",
   "name": "python3"
  },
  "language_info": {
   "codemirror_mode": {
    "name": "ipython",
    "version": 3
   },
   "file_extension": ".py",
   "mimetype": "text/x-python",
   "name": "python",
   "nbconvert_exporter": "python",
   "pygments_lexer": "ipython3",
   "version": "3.7.3"
  }
 },
 "nbformat": 4,
 "nbformat_minor": 2
}
